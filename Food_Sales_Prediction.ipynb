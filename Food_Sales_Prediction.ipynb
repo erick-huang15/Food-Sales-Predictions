{
  "cells": [
    {
      "cell_type": "markdown",
      "metadata": {
        "id": "view-in-github",
        "colab_type": "text"
      },
      "source": [
        "<a href=\"https://colab.research.google.com/github/erick-huang15/Food-Sales-Predictions/blob/main/Food_Sales_Prediction.ipynb\" target=\"_parent\"><img src=\"https://colab.research.google.com/assets/colab-badge.svg\" alt=\"Open In Colab\"/></a>"
      ]
    },
    {
      "cell_type": "code",
      "execution_count": 69,
      "metadata": {
        "colab": {
          "base_uri": "https://localhost:8080/"
        },
        "id": "7jdIs4dsoEZo",
        "outputId": "65fa9906-17ad-402e-cfcc-b10becc87ca7"
      },
      "outputs": [
        {
          "output_type": "stream",
          "name": "stdout",
          "text": [
            "Drive already mounted at /content/drive; to attempt to forcibly remount, call drive.mount(\"/content/drive\", force_remount=True).\n"
          ]
        }
      ],
      "source": [
        "from google.colab import drive # this is to mount the google drive to this workbook \n",
        "drive.mount('/content/drive')"
      ]
    },
    {
      "cell_type": "code",
      "execution_count": 50,
      "metadata": {
        "colab": {
          "base_uri": "https://localhost:8080/",
          "height": 357
        },
        "id": "GhDvueOAp6bX",
        "outputId": "9c9f9232-6510-436d-f6de-a2de5d20ca22"
      },
      "outputs": [
        {
          "output_type": "execute_result",
          "data": {
            "text/html": [
              "\n",
              "  <div id=\"df-f5da5662-8b84-4ddf-89e4-d6351cd3f63c\">\n",
              "    <div class=\"colab-df-container\">\n",
              "      <div>\n",
              "<style scoped>\n",
              "    .dataframe tbody tr th:only-of-type {\n",
              "        vertical-align: middle;\n",
              "    }\n",
              "\n",
              "    .dataframe tbody tr th {\n",
              "        vertical-align: top;\n",
              "    }\n",
              "\n",
              "    .dataframe thead th {\n",
              "        text-align: right;\n",
              "    }\n",
              "</style>\n",
              "<table border=\"1\" class=\"dataframe\">\n",
              "  <thead>\n",
              "    <tr style=\"text-align: right;\">\n",
              "      <th></th>\n",
              "      <th>Item_Identifier</th>\n",
              "      <th>Item_Weight</th>\n",
              "      <th>Item_Fat_Content</th>\n",
              "      <th>Item_Visibility</th>\n",
              "      <th>Item_Type</th>\n",
              "      <th>Item_MRP</th>\n",
              "      <th>Outlet_Identifier</th>\n",
              "      <th>Outlet_Establishment_Year</th>\n",
              "      <th>Outlet_Size</th>\n",
              "      <th>Outlet_Location_Type</th>\n",
              "      <th>Outlet_Type</th>\n",
              "      <th>Item_Outlet_Sales</th>\n",
              "    </tr>\n",
              "  </thead>\n",
              "  <tbody>\n",
              "    <tr>\n",
              "      <th>0</th>\n",
              "      <td>FDA15</td>\n",
              "      <td>9.30</td>\n",
              "      <td>Low Fat</td>\n",
              "      <td>0.016047</td>\n",
              "      <td>Dairy</td>\n",
              "      <td>249.8092</td>\n",
              "      <td>OUT049</td>\n",
              "      <td>1999</td>\n",
              "      <td>Medium</td>\n",
              "      <td>Tier 1</td>\n",
              "      <td>Supermarket Type1</td>\n",
              "      <td>3735.1380</td>\n",
              "    </tr>\n",
              "    <tr>\n",
              "      <th>1</th>\n",
              "      <td>DRC01</td>\n",
              "      <td>5.92</td>\n",
              "      <td>Regular</td>\n",
              "      <td>0.019278</td>\n",
              "      <td>Soft Drinks</td>\n",
              "      <td>48.2692</td>\n",
              "      <td>OUT018</td>\n",
              "      <td>2009</td>\n",
              "      <td>Medium</td>\n",
              "      <td>Tier 3</td>\n",
              "      <td>Supermarket Type2</td>\n",
              "      <td>443.4228</td>\n",
              "    </tr>\n",
              "    <tr>\n",
              "      <th>2</th>\n",
              "      <td>FDN15</td>\n",
              "      <td>17.50</td>\n",
              "      <td>Low Fat</td>\n",
              "      <td>0.016760</td>\n",
              "      <td>Meat</td>\n",
              "      <td>141.6180</td>\n",
              "      <td>OUT049</td>\n",
              "      <td>1999</td>\n",
              "      <td>Medium</td>\n",
              "      <td>Tier 1</td>\n",
              "      <td>Supermarket Type1</td>\n",
              "      <td>2097.2700</td>\n",
              "    </tr>\n",
              "    <tr>\n",
              "      <th>3</th>\n",
              "      <td>FDX07</td>\n",
              "      <td>19.20</td>\n",
              "      <td>Regular</td>\n",
              "      <td>0.000000</td>\n",
              "      <td>Fruits and Vegetables</td>\n",
              "      <td>182.0950</td>\n",
              "      <td>OUT010</td>\n",
              "      <td>1998</td>\n",
              "      <td>NaN</td>\n",
              "      <td>Tier 3</td>\n",
              "      <td>Grocery Store</td>\n",
              "      <td>732.3800</td>\n",
              "    </tr>\n",
              "    <tr>\n",
              "      <th>4</th>\n",
              "      <td>NCD19</td>\n",
              "      <td>8.93</td>\n",
              "      <td>Low Fat</td>\n",
              "      <td>0.000000</td>\n",
              "      <td>Household</td>\n",
              "      <td>53.8614</td>\n",
              "      <td>OUT013</td>\n",
              "      <td>1987</td>\n",
              "      <td>High</td>\n",
              "      <td>Tier 3</td>\n",
              "      <td>Supermarket Type1</td>\n",
              "      <td>994.7052</td>\n",
              "    </tr>\n",
              "  </tbody>\n",
              "</table>\n",
              "</div>\n",
              "      <button class=\"colab-df-convert\" onclick=\"convertToInteractive('df-f5da5662-8b84-4ddf-89e4-d6351cd3f63c')\"\n",
              "              title=\"Convert this dataframe to an interactive table.\"\n",
              "              style=\"display:none;\">\n",
              "        \n",
              "  <svg xmlns=\"http://www.w3.org/2000/svg\" height=\"24px\"viewBox=\"0 0 24 24\"\n",
              "       width=\"24px\">\n",
              "    <path d=\"M0 0h24v24H0V0z\" fill=\"none\"/>\n",
              "    <path d=\"M18.56 5.44l.94 2.06.94-2.06 2.06-.94-2.06-.94-.94-2.06-.94 2.06-2.06.94zm-11 1L8.5 8.5l.94-2.06 2.06-.94-2.06-.94L8.5 2.5l-.94 2.06-2.06.94zm10 10l.94 2.06.94-2.06 2.06-.94-2.06-.94-.94-2.06-.94 2.06-2.06.94z\"/><path d=\"M17.41 7.96l-1.37-1.37c-.4-.4-.92-.59-1.43-.59-.52 0-1.04.2-1.43.59L10.3 9.45l-7.72 7.72c-.78.78-.78 2.05 0 2.83L4 21.41c.39.39.9.59 1.41.59.51 0 1.02-.2 1.41-.59l7.78-7.78 2.81-2.81c.8-.78.8-2.07 0-2.86zM5.41 20L4 18.59l7.72-7.72 1.47 1.35L5.41 20z\"/>\n",
              "  </svg>\n",
              "      </button>\n",
              "      \n",
              "  <style>\n",
              "    .colab-df-container {\n",
              "      display:flex;\n",
              "      flex-wrap:wrap;\n",
              "      gap: 12px;\n",
              "    }\n",
              "\n",
              "    .colab-df-convert {\n",
              "      background-color: #E8F0FE;\n",
              "      border: none;\n",
              "      border-radius: 50%;\n",
              "      cursor: pointer;\n",
              "      display: none;\n",
              "      fill: #1967D2;\n",
              "      height: 32px;\n",
              "      padding: 0 0 0 0;\n",
              "      width: 32px;\n",
              "    }\n",
              "\n",
              "    .colab-df-convert:hover {\n",
              "      background-color: #E2EBFA;\n",
              "      box-shadow: 0px 1px 2px rgba(60, 64, 67, 0.3), 0px 1px 3px 1px rgba(60, 64, 67, 0.15);\n",
              "      fill: #174EA6;\n",
              "    }\n",
              "\n",
              "    [theme=dark] .colab-df-convert {\n",
              "      background-color: #3B4455;\n",
              "      fill: #D2E3FC;\n",
              "    }\n",
              "\n",
              "    [theme=dark] .colab-df-convert:hover {\n",
              "      background-color: #434B5C;\n",
              "      box-shadow: 0px 1px 3px 1px rgba(0, 0, 0, 0.15);\n",
              "      filter: drop-shadow(0px 1px 2px rgba(0, 0, 0, 0.3));\n",
              "      fill: #FFFFFF;\n",
              "    }\n",
              "  </style>\n",
              "\n",
              "      <script>\n",
              "        const buttonEl =\n",
              "          document.querySelector('#df-f5da5662-8b84-4ddf-89e4-d6351cd3f63c button.colab-df-convert');\n",
              "        buttonEl.style.display =\n",
              "          google.colab.kernel.accessAllowed ? 'block' : 'none';\n",
              "\n",
              "        async function convertToInteractive(key) {\n",
              "          const element = document.querySelector('#df-f5da5662-8b84-4ddf-89e4-d6351cd3f63c');\n",
              "          const dataTable =\n",
              "            await google.colab.kernel.invokeFunction('convertToInteractive',\n",
              "                                                     [key], {});\n",
              "          if (!dataTable) return;\n",
              "\n",
              "          const docLinkHtml = 'Like what you see? Visit the ' +\n",
              "            '<a target=\"_blank\" href=https://colab.research.google.com/notebooks/data_table.ipynb>data table notebook</a>'\n",
              "            + ' to learn more about interactive tables.';\n",
              "          element.innerHTML = '';\n",
              "          dataTable['output_type'] = 'display_data';\n",
              "          await google.colab.output.renderOutput(dataTable, element);\n",
              "          const docLink = document.createElement('div');\n",
              "          docLink.innerHTML = docLinkHtml;\n",
              "          element.appendChild(docLink);\n",
              "        }\n",
              "      </script>\n",
              "    </div>\n",
              "  </div>\n",
              "  "
            ],
            "text/plain": [
              "  Item_Identifier  Item_Weight  ...        Outlet_Type  Item_Outlet_Sales\n",
              "0           FDA15         9.30  ...  Supermarket Type1          3735.1380\n",
              "1           DRC01         5.92  ...  Supermarket Type2           443.4228\n",
              "2           FDN15        17.50  ...  Supermarket Type1          2097.2700\n",
              "3           FDX07        19.20  ...      Grocery Store           732.3800\n",
              "4           NCD19         8.93  ...  Supermarket Type1           994.7052\n",
              "\n",
              "[5 rows x 12 columns]"
            ]
          },
          "metadata": {},
          "execution_count": 50
        }
      ],
      "source": [
        "import pandas as pd # this is to import all the libraries\n",
        "import numpy as np\n",
        "import seaborn as sns\n",
        "import matplotlib.pyplot as plt\n",
        "\n",
        "data_path = '/content/drive/MyDrive/CD: Project 1/sales_predictions.csv' # this is to link the file from google drive\n",
        "food_sp_data = pd.read_csv(data_path) # this is to tread the csv file\n",
        "food_sp_data.head() # this is to show the first 5 rows on the data"
      ]
    },
    {
      "cell_type": "markdown",
      "metadata": {
        "id": "8UrCpz6xvPn8"
      },
      "source": [
        "#### How many rows and columns? 8,523 rows and 12 columns "
      ]
    },
    {
      "cell_type": "code",
      "source": [
        "food_sp_data.shape # this is to get the number of rows and column "
      ],
      "metadata": {
        "colab": {
          "base_uri": "https://localhost:8080/"
        },
        "id": "_4p5IZ75p_28",
        "outputId": "61a1907a-a895-40c6-b437-5cfb0a10cbc0"
      },
      "execution_count": 49,
      "outputs": [
        {
          "output_type": "execute_result",
          "data": {
            "text/plain": [
              "(8523, 12)"
            ]
          },
          "metadata": {},
          "execution_count": 49
        }
      ]
    },
    {
      "cell_type": "code",
      "execution_count": 27,
      "metadata": {
        "colab": {
          "base_uri": "https://localhost:8080/"
        },
        "id": "Y-WS9z_fr0S7",
        "outputId": "40b75a1a-81d4-4db8-b769-810d7ebc0bd2"
      },
      "outputs": [
        {
          "output_type": "execute_result",
          "data": {
            "text/plain": [
              "12"
            ]
          },
          "metadata": {},
          "execution_count": 27
        }
      ],
      "source": [
        "num_col = len(food_sp_data.columns) # this is to get the number of columns and store it in num_col\n",
        "num_col"
      ]
    },
    {
      "cell_type": "code",
      "source": [
        "num_row = len(food_sp_data) # this is to get the number of rows and store it in num_row\n",
        "num_row"
      ],
      "metadata": {
        "colab": {
          "base_uri": "https://localhost:8080/"
        },
        "id": "NJu3BnB4n25_",
        "outputId": "96020c02-1f33-433c-f1c6-261a45d6951d"
      },
      "execution_count": 28,
      "outputs": [
        {
          "output_type": "execute_result",
          "data": {
            "text/plain": [
              "8523"
            ]
          },
          "metadata": {},
          "execution_count": 28
        }
      ]
    },
    {
      "cell_type": "markdown",
      "source": [
        "#### What are the datatypes of each variable? Object, Int and Float"
      ],
      "metadata": {
        "id": "wdB5bAXqYbvd"
      }
    },
    {
      "cell_type": "code",
      "source": [
        "datatype = food_sp_data.dtypes # this is to check the datatypes and store it in a variable\n",
        "datatype # show the datatype that is stored in datatype variable "
      ],
      "metadata": {
        "colab": {
          "base_uri": "https://localhost:8080/"
        },
        "id": "b_573dDrYiu2",
        "outputId": "fbf9e72f-933c-401a-aa6a-ddc20ca540db"
      },
      "execution_count": 29,
      "outputs": [
        {
          "output_type": "execute_result",
          "data": {
            "text/plain": [
              "Item_Identifier               object\n",
              "Item_Weight                  float64\n",
              "Item_Fat_Content              object\n",
              "Item_Visibility              float64\n",
              "Item_Type                     object\n",
              "Item_MRP                     float64\n",
              "Outlet_Identifier             object\n",
              "Outlet_Establishment_Year      int64\n",
              "Outlet_Size                   object\n",
              "Outlet_Location_Type          object\n",
              "Outlet_Type                   object\n",
              "Item_Outlet_Sales            float64\n",
              "dtype: object"
            ]
          },
          "metadata": {},
          "execution_count": 29
        }
      ]
    },
    {
      "cell_type": "markdown",
      "metadata": {
        "id": "tsIIvHE3vT_4"
      },
      "source": [
        "####Are there any duplicates? If so, drop any duplicates? No, there are no duplicates"
      ]
    },
    {
      "cell_type": "code",
      "execution_count": 30,
      "metadata": {
        "colab": {
          "base_uri": "https://localhost:8080/"
        },
        "id": "-_fVvpYMsWiL",
        "outputId": "0c6f6428-e3e8-408f-eeee-d0fe79abb146"
      },
      "outputs": [
        {
          "output_type": "execute_result",
          "data": {
            "text/plain": [
              "0"
            ]
          },
          "metadata": {},
          "execution_count": 30
        }
      ],
      "source": [
        "food_sp_data.duplicated().sum() # this is to check the duplicate data in the dataset"
      ]
    },
    {
      "cell_type": "markdown",
      "metadata": {
        "id": "dvhA9RB_vjJI"
      },
      "source": [
        "#### Identify missing values? Item_Weight and Outlet_Size both columns have missing values"
      ]
    },
    {
      "cell_type": "code",
      "execution_count": 17,
      "metadata": {
        "colab": {
          "base_uri": "https://localhost:8080/"
        },
        "id": "IyaIJ2nBvHrf",
        "outputId": "87e9e44c-c1e0-4ebc-e0e3-08ee824bccce"
      },
      "outputs": [
        {
          "output_type": "execute_result",
          "data": {
            "text/plain": [
              "Item_Identifier                 0\n",
              "Item_Weight                  1463\n",
              "Item_Fat_Content                0\n",
              "Item_Visibility                 0\n",
              "Item_Type                       0\n",
              "Item_MRP                        0\n",
              "Outlet_Identifier               0\n",
              "Outlet_Establishment_Year       0\n",
              "Outlet_Size                  2410\n",
              "Outlet_Location_Type            0\n",
              "Outlet_Type                     0\n",
              "Item_Outlet_Sales               0\n",
              "dtype: int64"
            ]
          },
          "metadata": {},
          "execution_count": 17
        }
      ],
      "source": [
        "null_values = food_sp_data.isna().sum() # this is to identify missing value\n",
        "null_values"
      ]
    },
    {
      "cell_type": "markdown",
      "source": [
        "####  Decide on how to address the missing values and do it! (This requires your judgement, so explain your choice). The missing values are weight which will be addressed by imputing the average of the column. The missing values in outlet_size will be filled with the most frequent entry based on the traffic of the visitors visiting a particular outlet. "
      ],
      "metadata": {
        "id": "rMUIm2ZMusb2"
      }
    },
    {
      "cell_type": "code",
      "source": [
        "food_sp_data['Item_Weight'].fillna(value=food_sp_data['Item_Weight'].mean(),inplace=True) # this it to replace the missing values with mean"
      ],
      "metadata": {
        "id": "7vuUoxScuvlG"
      },
      "execution_count": 59,
      "outputs": []
    },
    {
      "cell_type": "code",
      "source": [
        "from sklearn.impute import SimpleImputer # this is to import SimpleImputer \n",
        "imputer = SimpleImputer(missing_values=np.nan,strategy='most_frequent') # this is to store the function in a variable\n",
        "imputer = imputer.fit(food_sp_data[['Outlet_Size']]) # this is to impute the most frequent entry that can be found in outlet size\n",
        "food_sp_data['Outlet_Size'] = imputer.transform(food_sp_data[['Outlet_Size']])"
      ],
      "metadata": {
        "id": "-W1bIiTNBZyL"
      },
      "execution_count": 64,
      "outputs": []
    },
    {
      "cell_type": "markdown",
      "source": [
        " #### Confirm that there are no missing values after addressing them."
      ],
      "metadata": {
        "id": "wcPhKBI3FJiq"
      }
    },
    {
      "cell_type": "code",
      "source": [
        "food_sp_data.isna().sum() # this is to check and confirm there are no more missing values"
      ],
      "metadata": {
        "colab": {
          "base_uri": "https://localhost:8080/"
        },
        "id": "484tJNPnFHF_",
        "outputId": "353128fe-6a30-40f4-ce1f-37a5d5d75423"
      },
      "execution_count": 71,
      "outputs": [
        {
          "output_type": "execute_result",
          "data": {
            "text/plain": [
              "Item_Identifier              0\n",
              "Item_Weight                  0\n",
              "Item_Fat_Content             0\n",
              "Item_Visibility              0\n",
              "Item_Type                    0\n",
              "Item_MRP                     0\n",
              "Outlet_Identifier            0\n",
              "Outlet_Establishment_Year    0\n",
              "Outlet_Size                  0\n",
              "Outlet_Location_Type         0\n",
              "Outlet_Type                  0\n",
              "Item_Outlet_Sales            0\n",
              "dtype: int64"
            ]
          },
          "metadata": {},
          "execution_count": 71
        }
      ]
    },
    {
      "cell_type": "markdown",
      "source": [
        "##### Find and fix any inconsistent categories of data (example: fix cat, Cat, and cats so that they are consistent) "
      ],
      "metadata": {
        "id": "rYD3gMQFZPjC"
      }
    },
    {
      "cell_type": "code",
      "source": [
        "for col in food_sp_data: # this loop is to loop through the dataset in order to investigate, find and fix inconsistent categories of data\n",
        "  print(col)\n",
        "  print(food_sp_data[col].value_counts(dropna=False))\n",
        "  print(\"\\n\\n\")"
      ],
      "metadata": {
        "colab": {
          "base_uri": "https://localhost:8080/"
        },
        "id": "nawt3QUsaF-k",
        "outputId": "c8b05446-1165-477d-ac09-211fe93289d2"
      },
      "execution_count": 72,
      "outputs": [
        {
          "output_type": "stream",
          "name": "stdout",
          "text": [
            "Item_Identifier\n",
            "FDW13    10\n",
            "FDG33    10\n",
            "NCY18     9\n",
            "FDD38     9\n",
            "DRE49     9\n",
            "         ..\n",
            "FDY43     1\n",
            "FDQ60     1\n",
            "FDO33     1\n",
            "DRF48     1\n",
            "FDC23     1\n",
            "Name: Item_Identifier, Length: 1559, dtype: int64\n",
            "\n",
            "\n",
            "\n",
            "Item_Weight\n",
            "12.857645    1463\n",
            "12.150000      86\n",
            "17.600000      82\n",
            "13.650000      77\n",
            "11.800000      76\n",
            "             ... \n",
            "7.275000        2\n",
            "7.685000        1\n",
            "9.420000        1\n",
            "6.520000        1\n",
            "5.400000        1\n",
            "Name: Item_Weight, Length: 416, dtype: int64\n",
            "\n",
            "\n",
            "\n",
            "Item_Fat_Content\n",
            "Low Fat    5089\n",
            "Regular    2889\n",
            "LF          316\n",
            "reg         117\n",
            "low fat     112\n",
            "Name: Item_Fat_Content, dtype: int64\n",
            "\n",
            "\n",
            "\n",
            "Item_Visibility\n",
            "0.000000    526\n",
            "0.076975      3\n",
            "0.162462      2\n",
            "0.076841      2\n",
            "0.073562      2\n",
            "           ... \n",
            "0.013957      1\n",
            "0.110460      1\n",
            "0.124646      1\n",
            "0.054142      1\n",
            "0.044878      1\n",
            "Name: Item_Visibility, Length: 7880, dtype: int64\n",
            "\n",
            "\n",
            "\n",
            "Item_Type\n",
            "Fruits and Vegetables    1232\n",
            "Snack Foods              1200\n",
            "Household                 910\n",
            "Frozen Foods              856\n",
            "Dairy                     682\n",
            "Canned                    649\n",
            "Baking Goods              648\n",
            "Health and Hygiene        520\n",
            "Soft Drinks               445\n",
            "Meat                      425\n",
            "Breads                    251\n",
            "Hard Drinks               214\n",
            "Others                    169\n",
            "Starchy Foods             148\n",
            "Breakfast                 110\n",
            "Seafood                    64\n",
            "Name: Item_Type, dtype: int64\n",
            "\n",
            "\n",
            "\n",
            "Item_MRP\n",
            "172.0422    7\n",
            "170.5422    6\n",
            "196.5084    6\n",
            "188.1872    6\n",
            "142.0154    6\n",
            "           ..\n",
            "97.3384     1\n",
            "83.1934     1\n",
            "96.6752     1\n",
            "152.6682    1\n",
            "75.4670     1\n",
            "Name: Item_MRP, Length: 5938, dtype: int64\n",
            "\n",
            "\n",
            "\n",
            "Outlet_Identifier\n",
            "OUT027    935\n",
            "OUT013    932\n",
            "OUT049    930\n",
            "OUT046    930\n",
            "OUT035    930\n",
            "OUT045    929\n",
            "OUT018    928\n",
            "OUT017    926\n",
            "OUT010    555\n",
            "OUT019    528\n",
            "Name: Outlet_Identifier, dtype: int64\n",
            "\n",
            "\n",
            "\n",
            "Outlet_Establishment_Year\n",
            "1985    1463\n",
            "1987     932\n",
            "1999     930\n",
            "1997     930\n",
            "2004     930\n",
            "2002     929\n",
            "2009     928\n",
            "2007     926\n",
            "1998     555\n",
            "Name: Outlet_Establishment_Year, dtype: int64\n",
            "\n",
            "\n",
            "\n",
            "Outlet_Size\n",
            "Medium    5203\n",
            "Small     2388\n",
            "High       932\n",
            "Name: Outlet_Size, dtype: int64\n",
            "\n",
            "\n",
            "\n",
            "Outlet_Location_Type\n",
            "Tier 3    3350\n",
            "Tier 2    2785\n",
            "Tier 1    2388\n",
            "Name: Outlet_Location_Type, dtype: int64\n",
            "\n",
            "\n",
            "\n",
            "Outlet_Type\n",
            "Supermarket Type1    5577\n",
            "Grocery Store        1083\n",
            "Supermarket Type3     935\n",
            "Supermarket Type2     928\n",
            "Name: Outlet_Type, dtype: int64\n",
            "\n",
            "\n",
            "\n",
            "Item_Outlet_Sales\n",
            "958.7520     17\n",
            "1342.2528    16\n",
            "703.0848     15\n",
            "1845.5976    15\n",
            "1278.3360    14\n",
            "             ..\n",
            "4124.6310     1\n",
            "6622.7126     1\n",
            "1614.5650     1\n",
            "5602.7070     1\n",
            "2778.3834     1\n",
            "Name: Item_Outlet_Sales, Length: 3493, dtype: int64\n",
            "\n",
            "\n",
            "\n"
          ]
        }
      ]
    },
    {
      "cell_type": "code",
      "source": [
        "replace_fc = {'LF':'Low Fat', 'low fat':'Low Fat', 'reg':'Regular'} #fix the data in Item_Fat_Content #LF, reg, low fat\n",
        "food_sp_data['Item_Fat_Content'] = food_sp_data['Item_Fat_Content'].replace(replace_fc)\n",
        "food_sp_data['Item_Fat_Content'].value_counts()"
      ],
      "metadata": {
        "colab": {
          "base_uri": "https://localhost:8080/"
        },
        "id": "mMkliBskFBHK",
        "outputId": "bcce830a-a36b-4e83-cd1f-9c3a6e1007d0"
      },
      "execution_count": 94,
      "outputs": [
        {
          "output_type": "execute_result",
          "data": {
            "text/plain": [
              "Low Fat    5517\n",
              "Regular    3006\n",
              "Name: Item_Fat_Content, dtype: int64"
            ]
          },
          "metadata": {},
          "execution_count": 94
        }
      ]
    },
    {
      "cell_type": "markdown",
      "source": [
        "#### For any numerical columns, obtain the summary statistics of each (min, max, mean)"
      ],
      "metadata": {
        "id": "AEyTUw1SPeJ8"
      }
    },
    {
      "cell_type": "code",
      "source": [
        "food_sp_data.describe() # this is to get the statistics of min, max, mean"
      ],
      "metadata": {
        "colab": {
          "base_uri": "https://localhost:8080/",
          "height": 300
        },
        "id": "ZpMzz2-GPgSX",
        "outputId": "cd75f0df-0d8b-4075-d2e0-78006d8d6a3c"
      },
      "execution_count": 92,
      "outputs": [
        {
          "output_type": "execute_result",
          "data": {
            "text/html": [
              "\n",
              "  <div id=\"df-913966c3-394a-48c9-8b4c-3bedbe9f5da3\">\n",
              "    <div class=\"colab-df-container\">\n",
              "      <div>\n",
              "<style scoped>\n",
              "    .dataframe tbody tr th:only-of-type {\n",
              "        vertical-align: middle;\n",
              "    }\n",
              "\n",
              "    .dataframe tbody tr th {\n",
              "        vertical-align: top;\n",
              "    }\n",
              "\n",
              "    .dataframe thead th {\n",
              "        text-align: right;\n",
              "    }\n",
              "</style>\n",
              "<table border=\"1\" class=\"dataframe\">\n",
              "  <thead>\n",
              "    <tr style=\"text-align: right;\">\n",
              "      <th></th>\n",
              "      <th>Item_Weight</th>\n",
              "      <th>Item_Visibility</th>\n",
              "      <th>Item_MRP</th>\n",
              "      <th>Outlet_Establishment_Year</th>\n",
              "      <th>Item_Outlet_Sales</th>\n",
              "    </tr>\n",
              "  </thead>\n",
              "  <tbody>\n",
              "    <tr>\n",
              "      <th>count</th>\n",
              "      <td>8523.000000</td>\n",
              "      <td>8523.000000</td>\n",
              "      <td>8523.000000</td>\n",
              "      <td>8523.000000</td>\n",
              "      <td>8523.000000</td>\n",
              "    </tr>\n",
              "    <tr>\n",
              "      <th>mean</th>\n",
              "      <td>12.857645</td>\n",
              "      <td>0.066132</td>\n",
              "      <td>140.992782</td>\n",
              "      <td>1997.831867</td>\n",
              "      <td>2181.288914</td>\n",
              "    </tr>\n",
              "    <tr>\n",
              "      <th>std</th>\n",
              "      <td>4.226124</td>\n",
              "      <td>0.051598</td>\n",
              "      <td>62.275067</td>\n",
              "      <td>8.371760</td>\n",
              "      <td>1706.499616</td>\n",
              "    </tr>\n",
              "    <tr>\n",
              "      <th>min</th>\n",
              "      <td>4.555000</td>\n",
              "      <td>0.000000</td>\n",
              "      <td>31.290000</td>\n",
              "      <td>1985.000000</td>\n",
              "      <td>33.290000</td>\n",
              "    </tr>\n",
              "    <tr>\n",
              "      <th>25%</th>\n",
              "      <td>9.310000</td>\n",
              "      <td>0.026989</td>\n",
              "      <td>93.826500</td>\n",
              "      <td>1987.000000</td>\n",
              "      <td>834.247400</td>\n",
              "    </tr>\n",
              "    <tr>\n",
              "      <th>50%</th>\n",
              "      <td>12.857645</td>\n",
              "      <td>0.053931</td>\n",
              "      <td>143.012800</td>\n",
              "      <td>1999.000000</td>\n",
              "      <td>1794.331000</td>\n",
              "    </tr>\n",
              "    <tr>\n",
              "      <th>75%</th>\n",
              "      <td>16.000000</td>\n",
              "      <td>0.094585</td>\n",
              "      <td>185.643700</td>\n",
              "      <td>2004.000000</td>\n",
              "      <td>3101.296400</td>\n",
              "    </tr>\n",
              "    <tr>\n",
              "      <th>max</th>\n",
              "      <td>21.350000</td>\n",
              "      <td>0.328391</td>\n",
              "      <td>266.888400</td>\n",
              "      <td>2009.000000</td>\n",
              "      <td>13086.964800</td>\n",
              "    </tr>\n",
              "  </tbody>\n",
              "</table>\n",
              "</div>\n",
              "      <button class=\"colab-df-convert\" onclick=\"convertToInteractive('df-913966c3-394a-48c9-8b4c-3bedbe9f5da3')\"\n",
              "              title=\"Convert this dataframe to an interactive table.\"\n",
              "              style=\"display:none;\">\n",
              "        \n",
              "  <svg xmlns=\"http://www.w3.org/2000/svg\" height=\"24px\"viewBox=\"0 0 24 24\"\n",
              "       width=\"24px\">\n",
              "    <path d=\"M0 0h24v24H0V0z\" fill=\"none\"/>\n",
              "    <path d=\"M18.56 5.44l.94 2.06.94-2.06 2.06-.94-2.06-.94-.94-2.06-.94 2.06-2.06.94zm-11 1L8.5 8.5l.94-2.06 2.06-.94-2.06-.94L8.5 2.5l-.94 2.06-2.06.94zm10 10l.94 2.06.94-2.06 2.06-.94-2.06-.94-.94-2.06-.94 2.06-2.06.94z\"/><path d=\"M17.41 7.96l-1.37-1.37c-.4-.4-.92-.59-1.43-.59-.52 0-1.04.2-1.43.59L10.3 9.45l-7.72 7.72c-.78.78-.78 2.05 0 2.83L4 21.41c.39.39.9.59 1.41.59.51 0 1.02-.2 1.41-.59l7.78-7.78 2.81-2.81c.8-.78.8-2.07 0-2.86zM5.41 20L4 18.59l7.72-7.72 1.47 1.35L5.41 20z\"/>\n",
              "  </svg>\n",
              "      </button>\n",
              "      \n",
              "  <style>\n",
              "    .colab-df-container {\n",
              "      display:flex;\n",
              "      flex-wrap:wrap;\n",
              "      gap: 12px;\n",
              "    }\n",
              "\n",
              "    .colab-df-convert {\n",
              "      background-color: #E8F0FE;\n",
              "      border: none;\n",
              "      border-radius: 50%;\n",
              "      cursor: pointer;\n",
              "      display: none;\n",
              "      fill: #1967D2;\n",
              "      height: 32px;\n",
              "      padding: 0 0 0 0;\n",
              "      width: 32px;\n",
              "    }\n",
              "\n",
              "    .colab-df-convert:hover {\n",
              "      background-color: #E2EBFA;\n",
              "      box-shadow: 0px 1px 2px rgba(60, 64, 67, 0.3), 0px 1px 3px 1px rgba(60, 64, 67, 0.15);\n",
              "      fill: #174EA6;\n",
              "    }\n",
              "\n",
              "    [theme=dark] .colab-df-convert {\n",
              "      background-color: #3B4455;\n",
              "      fill: #D2E3FC;\n",
              "    }\n",
              "\n",
              "    [theme=dark] .colab-df-convert:hover {\n",
              "      background-color: #434B5C;\n",
              "      box-shadow: 0px 1px 3px 1px rgba(0, 0, 0, 0.15);\n",
              "      filter: drop-shadow(0px 1px 2px rgba(0, 0, 0, 0.3));\n",
              "      fill: #FFFFFF;\n",
              "    }\n",
              "  </style>\n",
              "\n",
              "      <script>\n",
              "        const buttonEl =\n",
              "          document.querySelector('#df-913966c3-394a-48c9-8b4c-3bedbe9f5da3 button.colab-df-convert');\n",
              "        buttonEl.style.display =\n",
              "          google.colab.kernel.accessAllowed ? 'block' : 'none';\n",
              "\n",
              "        async function convertToInteractive(key) {\n",
              "          const element = document.querySelector('#df-913966c3-394a-48c9-8b4c-3bedbe9f5da3');\n",
              "          const dataTable =\n",
              "            await google.colab.kernel.invokeFunction('convertToInteractive',\n",
              "                                                     [key], {});\n",
              "          if (!dataTable) return;\n",
              "\n",
              "          const docLinkHtml = 'Like what you see? Visit the ' +\n",
              "            '<a target=\"_blank\" href=https://colab.research.google.com/notebooks/data_table.ipynb>data table notebook</a>'\n",
              "            + ' to learn more about interactive tables.';\n",
              "          element.innerHTML = '';\n",
              "          dataTable['output_type'] = 'display_data';\n",
              "          await google.colab.output.renderOutput(dataTable, element);\n",
              "          const docLink = document.createElement('div');\n",
              "          docLink.innerHTML = docLinkHtml;\n",
              "          element.appendChild(docLink);\n",
              "        }\n",
              "      </script>\n",
              "    </div>\n",
              "  </div>\n",
              "  "
            ],
            "text/plain": [
              "       Item_Weight  ...  Item_Outlet_Sales\n",
              "count  8523.000000  ...        8523.000000\n",
              "mean     12.857645  ...        2181.288914\n",
              "std       4.226124  ...        1706.499616\n",
              "min       4.555000  ...          33.290000\n",
              "25%       9.310000  ...         834.247400\n",
              "50%      12.857645  ...        1794.331000\n",
              "75%      16.000000  ...        3101.296400\n",
              "max      21.350000  ...       13086.964800\n",
              "\n",
              "[8 rows x 5 columns]"
            ]
          },
          "metadata": {},
          "execution_count": 92
        }
      ]
    }
  ],
  "metadata": {
    "colab": {
      "name": "Food_Sales_Prediction.ipynb",
      "provenance": [],
      "collapsed_sections": [],
      "mount_file_id": "1h417ZyCOLnvpDWCOPnBzW6XVKaAw5yhG",
      "authorship_tag": "ABX9TyN5r0jgR9JkOBKwXHnaCr+C",
      "include_colab_link": true
    },
    "kernelspec": {
      "display_name": "Python 3",
      "name": "python3"
    },
    "language_info": {
      "name": "python"
    }
  },
  "nbformat": 4,
  "nbformat_minor": 0
}